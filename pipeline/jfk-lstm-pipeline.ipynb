{
 "cells": [
  {
   "cell_type": "code",
   "execution_count": 1,
   "metadata": {},
   "outputs": [],
   "source": [
    "import pandas as pd\n",
    "import numpy as np\n",
    "import torch\n",
    "import torch.nn as nn\n",
    "import torch.optim as optim\n",
    "import torch.nn.functional as F\n",
    "\n",
    "import matplotlib.pyplot as plt\n",
    "from sklearn.metrics import r2_score\n",
    "from sklearn.metrics import mean_squared_error\n",
    "from sklearn.metrics import mean_absolute_error"
   ]
  },
  {
   "cell_type": "code",
   "execution_count": 2,
   "metadata": {},
   "outputs": [
    {
     "data": {
      "text/plain": [
       "device(type='cuda', index=0)"
      ]
     },
     "execution_count": 2,
     "metadata": {},
     "output_type": "execute_result"
    }
   ],
   "source": [
    "device = torch.device(\"cuda:0\" if torch.cuda.is_available() else \"cpu\")\n",
    "device"
   ]
  },
  {
   "cell_type": "code",
   "execution_count": 3,
   "metadata": {},
   "outputs": [],
   "source": [
    "dataset = pd.read_csv('/home/urwa/Documents/side_projects/urban/data/featureData/jfk.csv')"
   ]
  },
  {
   "cell_type": "code",
   "execution_count": 4,
   "metadata": {},
   "outputs": [
    {
     "data": {
      "text/plain": [
       "(8757, 1049)"
      ]
     },
     "execution_count": 4,
     "metadata": {},
     "output_type": "execute_result"
    }
   ],
   "source": [
    "dataset.shape"
   ]
  },
  {
   "cell_type": "code",
   "execution_count": 5,
   "metadata": {},
   "outputs": [
    {
     "data": {
      "text/html": [
       "<div>\n",
       "<style scoped>\n",
       "    .dataframe tbody tr th:only-of-type {\n",
       "        vertical-align: middle;\n",
       "    }\n",
       "\n",
       "    .dataframe tbody tr th {\n",
       "        vertical-align: top;\n",
       "    }\n",
       "\n",
       "    .dataframe thead th {\n",
       "        text-align: right;\n",
       "    }\n",
       "</style>\n",
       "<table border=\"1\" class=\"dataframe\">\n",
       "  <thead>\n",
       "    <tr style=\"text-align: right;\">\n",
       "      <th></th>\n",
       "      <th>Date</th>\n",
       "      <th>Hour</th>\n",
       "      <th>1</th>\n",
       "      <th>10</th>\n",
       "      <th>100</th>\n",
       "      <th>101</th>\n",
       "      <th>102</th>\n",
       "      <th>106</th>\n",
       "      <th>107</th>\n",
       "      <th>108</th>\n",
       "      <th>...</th>\n",
       "      <th>91_lag_3</th>\n",
       "      <th>92_lag_3</th>\n",
       "      <th>93_lag_3</th>\n",
       "      <th>94_lag_3</th>\n",
       "      <th>95_lag_3</th>\n",
       "      <th>96_lag_3</th>\n",
       "      <th>97_lag_3</th>\n",
       "      <th>98_lag_3</th>\n",
       "      <th>99_lag_3</th>\n",
       "      <th>arrival_lag_3</th>\n",
       "    </tr>\n",
       "  </thead>\n",
       "  <tbody>\n",
       "    <tr>\n",
       "      <th>0</th>\n",
       "      <td>2018-01-01</td>\n",
       "      <td>3</td>\n",
       "      <td>0</td>\n",
       "      <td>0</td>\n",
       "      <td>0</td>\n",
       "      <td>0</td>\n",
       "      <td>0</td>\n",
       "      <td>0</td>\n",
       "      <td>0</td>\n",
       "      <td>0</td>\n",
       "      <td>...</td>\n",
       "      <td>1.0</td>\n",
       "      <td>1.0</td>\n",
       "      <td>0.0</td>\n",
       "      <td>1.0</td>\n",
       "      <td>6.0</td>\n",
       "      <td>0.0</td>\n",
       "      <td>1.0</td>\n",
       "      <td>0.0</td>\n",
       "      <td>0.0</td>\n",
       "      <td>6.0</td>\n",
       "    </tr>\n",
       "    <tr>\n",
       "      <th>1</th>\n",
       "      <td>2018-01-01</td>\n",
       "      <td>4</td>\n",
       "      <td>0</td>\n",
       "      <td>3</td>\n",
       "      <td>0</td>\n",
       "      <td>0</td>\n",
       "      <td>1</td>\n",
       "      <td>0</td>\n",
       "      <td>0</td>\n",
       "      <td>1</td>\n",
       "      <td>...</td>\n",
       "      <td>4.0</td>\n",
       "      <td>1.0</td>\n",
       "      <td>0.0</td>\n",
       "      <td>0.0</td>\n",
       "      <td>2.0</td>\n",
       "      <td>0.0</td>\n",
       "      <td>0.0</td>\n",
       "      <td>0.0</td>\n",
       "      <td>0.0</td>\n",
       "      <td>6.0</td>\n",
       "    </tr>\n",
       "    <tr>\n",
       "      <th>2</th>\n",
       "      <td>2018-01-01</td>\n",
       "      <td>5</td>\n",
       "      <td>0</td>\n",
       "      <td>4</td>\n",
       "      <td>0</td>\n",
       "      <td>0</td>\n",
       "      <td>1</td>\n",
       "      <td>2</td>\n",
       "      <td>3</td>\n",
       "      <td>1</td>\n",
       "      <td>...</td>\n",
       "      <td>0.0</td>\n",
       "      <td>0.0</td>\n",
       "      <td>0.0</td>\n",
       "      <td>0.0</td>\n",
       "      <td>1.0</td>\n",
       "      <td>0.0</td>\n",
       "      <td>0.0</td>\n",
       "      <td>0.0</td>\n",
       "      <td>0.0</td>\n",
       "      <td>2.0</td>\n",
       "    </tr>\n",
       "  </tbody>\n",
       "</table>\n",
       "<p>3 rows × 1049 columns</p>\n",
       "</div>"
      ],
      "text/plain": [
       "         Date  Hour  1  10  100  101  102  106  107  108  ...  91_lag_3  \\\n",
       "0  2018-01-01     3  0   0    0    0    0    0    0    0  ...       1.0   \n",
       "1  2018-01-01     4  0   3    0    0    1    0    0    1  ...       4.0   \n",
       "2  2018-01-01     5  0   4    0    0    1    2    3    1  ...       0.0   \n",
       "\n",
       "   92_lag_3  93_lag_3  94_lag_3  95_lag_3  96_lag_3  97_lag_3  98_lag_3  \\\n",
       "0       1.0       0.0       1.0       6.0       0.0       1.0       0.0   \n",
       "1       1.0       0.0       0.0       2.0       0.0       0.0       0.0   \n",
       "2       0.0       0.0       0.0       1.0       0.0       0.0       0.0   \n",
       "\n",
       "   99_lag_3  arrival_lag_3  \n",
       "0       0.0            6.0  \n",
       "1       0.0            6.0  \n",
       "2       0.0            2.0  \n",
       "\n",
       "[3 rows x 1049 columns]"
      ]
     },
     "execution_count": 5,
     "metadata": {},
     "output_type": "execute_result"
    }
   ],
   "source": [
    "dataset.head(3)"
   ]
  },
  {
   "cell_type": "code",
   "execution_count": 6,
   "metadata": {},
   "outputs": [
    {
     "data": {
      "text/plain": [
       "777"
      ]
     },
     "execution_count": 6,
     "metadata": {},
     "output_type": "execute_result"
    }
   ],
   "source": [
    "lag_columns = [c for c in dataset.columns if 'lag' in c]\n",
    "len(lag_columns)"
   ]
  },
  {
   "cell_type": "code",
   "execution_count": 7,
   "metadata": {},
   "outputs": [
    {
     "data": {
      "text/plain": [
       "(8757, 272)"
      ]
     },
     "execution_count": 7,
     "metadata": {},
     "output_type": "execute_result"
    }
   ],
   "source": [
    "dataset = dataset[[c for c in dataset.columns if c not in lag_columns]]\n",
    "dataset.shape"
   ]
  },
  {
   "cell_type": "code",
   "execution_count": 8,
   "metadata": {},
   "outputs": [
    {
     "data": {
      "text/plain": [
       "258"
      ]
     },
     "execution_count": 8,
     "metadata": {},
     "output_type": "execute_result"
    }
   ],
   "source": [
    "DateColumns = ['Date']\n",
    "\n",
    "ext_columns = ['Dow', 'arrival','maxtemp', 'mintemp', 'avgtemp', 'departure', 'hdd',\n",
    "       'cdd', 'participation', 'newsnow', 'snowdepth', 'ifSnow']\n",
    "\n",
    "targetColumns = [c for c in dataset.columns if c not in ext_columns and \\\n",
    "                c not in DateColumns and c not in lag_columns and c != 'Hour']\n",
    "len(targetColumns)"
   ]
  },
  {
   "cell_type": "code",
   "execution_count": 9,
   "metadata": {},
   "outputs": [
    {
     "data": {
      "text/plain": [
       "13"
      ]
     },
     "execution_count": 9,
     "metadata": {},
     "output_type": "execute_result"
    }
   ],
   "source": [
    "features_cols = [c for c in dataset.columns if c not in targetColumns and c not in DateColumns]\n",
    "len(features_cols)"
   ]
  },
  {
   "cell_type": "code",
   "execution_count": 10,
   "metadata": {},
   "outputs": [
    {
     "name": "stdout",
     "output_type": "stream",
     "text": [
      "6567\n",
      "(6567, 272)\n",
      "(2190, 272)\n"
     ]
    }
   ],
   "source": [
    "sep = int(0.75*len(dataset))\n",
    "print(sep)\n",
    "\n",
    "\n",
    "trainData = dataset[:sep]\n",
    "testData = dataset[sep:]\n",
    "\n",
    "print(trainData.shape)\n",
    "print(testData.shape)"
   ]
  },
  {
   "cell_type": "code",
   "execution_count": 11,
   "metadata": {},
   "outputs": [
    {
     "name": "stdout",
     "output_type": "stream",
     "text": [
      "torch.Size([6567, 13])\n",
      "torch.Size([6567, 258])\n",
      "torch.Size([2190, 13])\n",
      "torch.Size([2190, 258])\n"
     ]
    }
   ],
   "source": [
    "X_train = trainData[features_cols].values\n",
    "X_train = torch.tensor(X_train).float().to(device)\n",
    "print(X_train.shape)\n",
    "\n",
    "y_train = trainData[targetColumns].values\n",
    "y_train = torch.tensor(y_train).float().to(device)\n",
    "print(y_train.shape)\n",
    "\n",
    "X_test = testData[features_cols].values\n",
    "X_test = torch.tensor(X_test).float().to(device)\n",
    "print(X_test.shape)\n",
    "\n",
    "y_test = testData[targetColumns].values\n",
    "y_test = torch.tensor(y_test).float().to(device)\n",
    "print(y_test.shape)"
   ]
  },
  {
   "cell_type": "code",
   "execution_count": 12,
   "metadata": {},
   "outputs": [],
   "source": [
    "def create_inout_sequences(x,y, tw):\n",
    "    inout_seq = []\n",
    "    L = len(x)\n",
    "    for i in range(L-tw):\n",
    "        train_seq_x = x[i:i+tw]\n",
    "        train_seq_y = y[i:i+tw]\n",
    "#         train_seq = torch.cat((train_seq_x,train_seq_y),axis=1)\n",
    "        \n",
    "#         train_label = y[i+tw:i+tw+1]\n",
    "        train_label = y[i+1:i+tw+1]\n",
    "        inout_seq.append((train_seq_x, train_seq_y ,train_label))\n",
    "    return inout_seq"
   ]
  },
  {
   "cell_type": "code",
   "execution_count": 13,
   "metadata": {},
   "outputs": [],
   "source": [
    "bptt = 6"
   ]
  },
  {
   "cell_type": "code",
   "execution_count": 14,
   "metadata": {},
   "outputs": [],
   "source": [
    "train_inout_seq = create_inout_sequences(X_train,y_train, bptt)"
   ]
  },
  {
   "cell_type": "code",
   "execution_count": 15,
   "metadata": {},
   "outputs": [
    {
     "data": {
      "text/plain": [
       "(torch.Size([6, 13]), torch.Size([6, 258]), torch.Size([6, 258]))"
      ]
     },
     "execution_count": 15,
     "metadata": {},
     "output_type": "execute_result"
    }
   ],
   "source": [
    "train_inout_seq[0][0].shape,train_inout_seq[0][1].shape, train_inout_seq[0][2].shape"
   ]
  },
  {
   "cell_type": "code",
   "execution_count": 16,
   "metadata": {},
   "outputs": [],
   "source": [
    "test_inout_seq = create_inout_sequences(X_test,y_test, bptt)"
   ]
  },
  {
   "cell_type": "code",
   "execution_count": 17,
   "metadata": {},
   "outputs": [],
   "source": [
    "class LSTM(nn.Module):\n",
    "    def __init__(self, feat_size=1, hidden_layer_size=100, network_size=1, layers=1, communities=10):\n",
    "        super().__init__()\n",
    "        \n",
    "        # aggregation\n",
    "        self.attachment_matrix = torch.nn.Parameter(torch.randn(network_size,communities))\n",
    "        self.attachment_matrix.requires_grad = True\n",
    "        \n",
    "        \n",
    "        self.hidden_layer_size = hidden_layer_size\n",
    "        \n",
    "        self.hidden_cell = (torch.zeros(layers,1,self.hidden_layer_size),\n",
    "                    torch.zeros(layers,1,self.hidden_layer_size))\n",
    "        \n",
    "        lstm_input = communities + feat_size\n",
    "        self.lstm = nn.LSTM(input_size=lstm_input, hidden_size=hidden_layer_size, num_layers=layers)\n",
    "\n",
    "        #disaggregation\n",
    "#         self.linear_1 = nn.Linear(hidden_layer_size, hidden_layer_size)\n",
    "        self.linear_2 = nn.Linear(hidden_layer_size, network_size)\n",
    "\n",
    "\n",
    "    def forward(self, input_seq, feat):\n",
    "        \n",
    "        w = F.softmax(self.attachment_matrix, dim=1)\n",
    "        x = torch.matmul(input_seq, self.attachment_matrix)\n",
    "        x = torch.cat((x,feat),axis=1)\n",
    "\n",
    "        \n",
    "        lstm_out, self.hidden_cell = self.lstm(x.view(len(input_seq) ,1, -1), self.hidden_cell)\n",
    "        \n",
    "        predictions = self.linear_2(lstm_out.view(len(input_seq), -1))\n",
    "#         predictions = F.relu(predictions)\n",
    "#         predictions = self.linear_2(predictions)\n",
    "        \n",
    "        return predictions"
   ]
  },
  {
   "cell_type": "code",
   "execution_count": 18,
   "metadata": {},
   "outputs": [],
   "source": [
    "def evaluate(model):\n",
    "    model.eval()\n",
    "    prediction = []\n",
    "    with torch.no_grad():\n",
    "        for feat,seq, labels in test_inout_seq:\n",
    "            model.hidden = (torch.zeros(layers, 1, model.hidden_layer_size),\n",
    "                            torch.zeros(layers, 1, model.hidden_layer_size))\n",
    "            prediction.append(model(seq,feat)[-1])\n",
    "\n",
    "    y_test_ = torch.stack([labels[-1] for feat,seq, labels in test_inout_seq], axis=0).detach().cpu().numpy()\n",
    "    y_pred_ = torch.stack(prediction).detach().cpu().numpy()\n",
    "\n",
    "    r2 = r2_score(y_test_, y_pred_, multioutput='variance_weighted')\n",
    "    rmse = mean_squared_error(y_test_, y_pred_)\n",
    "    mae = mean_absolute_error(y_test_, y_pred_)\n",
    "#     print(\"r2: \",r2)\n",
    "    return (r2, rmse, mae)"
   ]
  },
  {
   "cell_type": "code",
   "execution_count": 19,
   "metadata": {},
   "outputs": [],
   "source": [
    "layers = 1\n",
    "communities = 24\n",
    "network_size = len(targetColumns)\n",
    "feat_size = len(features_cols)\n",
    "\n",
    "model = LSTM(feat_size = feat_size, hidden_layer_size=communities,\n",
    "             network_size=network_size, layers=layers,\n",
    "            communities=communities).to(device)\n",
    "\n",
    "loss_function = nn.L1Loss()   \n",
    "optimizer = torch.optim.Adam(model.parameters(), lr=0.001)\n",
    "scheduler = torch.optim.lr_scheduler.StepLR(optimizer, step_size=30, gamma=0.5)"
   ]
  },
  {
   "cell_type": "code",
   "execution_count": 20,
   "metadata": {},
   "outputs": [
    {
     "name": "stdout",
     "output_type": "stream",
     "text": [
      "epoch:   1 loss: 1.50980508 r2: 0.386 rmse: 5.230 mae: 1.233\n",
      "epoch:  11 loss: 1.43684399 r2: 0.472 rmse: 4.504 mae: 1.157\n",
      "epoch:  21 loss: 1.41309476 r2: 0.452 rmse: 4.670 mae: 1.173\n",
      "epoch:  31 loss: 1.38317263 r2: 0.498 rmse: 4.282 mae: 1.126\n",
      "epoch:  41 loss: 1.36921668 r2: 0.512 rmse: 4.156 mae: 1.110\n",
      "epoch:  51 loss: 1.40990531 r2: 0.515 rmse: 4.131 mae: 1.104\n",
      "epoch:  61 loss: 1.38272142 r2: 0.506 rmse: 4.206 mae: 1.111\n",
      "epoch:  71 loss: 1.38073325 r2: 0.506 rmse: 4.214 mae: 1.112\n",
      "epoch:  81 loss: 1.38124359 r2: 0.507 rmse: 4.200 mae: 1.109\n",
      "epoch:  91 loss: 1.36289167 r2: 0.511 rmse: 4.166 mae: 1.101\n",
      "epoch:  99 loss: 1.3631526232\n"
     ]
    }
   ],
   "source": [
    "epochs = 100\n",
    "\n",
    "\n",
    "for i in range(epochs):\n",
    "    model.train()\n",
    "    for feat,seq, labels in train_inout_seq:\n",
    "        optimizer.zero_grad()\n",
    "        model.hidden_cell = (torch.zeros(layers, 1, model.hidden_layer_size).to(device),\n",
    "                        torch.zeros(layers, 1, model.hidden_layer_size).to(device))\n",
    "\n",
    "        y_pred = model(seq, feat)\n",
    "\n",
    "        single_loss = loss_function(y_pred, labels)\n",
    "        single_loss.backward()\n",
    "        optimizer.step()\n",
    "        \n",
    "    scheduler.step()\n",
    "    if i%10 == 1:\n",
    "        r2, rmse, mae = evaluate(model)\n",
    "        print(f'epoch: {i:3} loss: {single_loss.item():10.8f} r2: {r2:5.3f} rmse: {rmse:5.3f} mae: {mae:5.3f}')\n",
    "\n",
    "print(f'epoch: {i:3} loss: {single_loss.item():10.10f}')"
   ]
  },
  {
   "cell_type": "code",
   "execution_count": 21,
   "metadata": {},
   "outputs": [
    {
     "data": {
      "text/plain": [
       "(0.5079145930626161, 4.194298, 1.1038326)"
      ]
     },
     "execution_count": 21,
     "metadata": {},
     "output_type": "execute_result"
    }
   ],
   "source": [
    "evaluate(model)"
   ]
  },
  {
   "cell_type": "code",
   "execution_count": 22,
   "metadata": {},
   "outputs": [
    {
     "data": {
      "text/plain": [
       "{'1': 1,\n",
       " '10': 1,\n",
       " '100': 20,\n",
       " '101': 19,\n",
       " '102': 19,\n",
       " '106': 20,\n",
       " '107': 22,\n",
       " '108': 13,\n",
       " '109': 4,\n",
       " '11': 15,\n",
       " '110': 11,\n",
       " '111': 1,\n",
       " '112': 23,\n",
       " '113': 2,\n",
       " '114': 11,\n",
       " '115': 12,\n",
       " '116': 18,\n",
       " '117': 3,\n",
       " '118': 6,\n",
       " '119': 5,\n",
       " '12': 12,\n",
       " '120': 21,\n",
       " '121': 11,\n",
       " '122': 13,\n",
       " '123': 22,\n",
       " '124': 4,\n",
       " '125': 23,\n",
       " '126': 20,\n",
       " '127': 18,\n",
       " '128': 0,\n",
       " '129': 0,\n",
       " '13': 19,\n",
       " '130': 23,\n",
       " '131': 22,\n",
       " '133': 7,\n",
       " '134': 17,\n",
       " '135': 11,\n",
       " '136': 0,\n",
       " '137': 21,\n",
       " '138': 15,\n",
       " '139': 5,\n",
       " '14': 5,\n",
       " '140': 19,\n",
       " '141': 5,\n",
       " '142': 19,\n",
       " '143': 6,\n",
       " '144': 23,\n",
       " '145': 6,\n",
       " '146': 4,\n",
       " '147': 8,\n",
       " '148': 3,\n",
       " '149': 12,\n",
       " '15': 11,\n",
       " '150': 9,\n",
       " '151': 7,\n",
       " '152': 15,\n",
       " '153': 23,\n",
       " '154': 20,\n",
       " '155': 14,\n",
       " '156': 13,\n",
       " '157': 6,\n",
       " '158': 22,\n",
       " '159': 14,\n",
       " '16': 20,\n",
       " '160': 1,\n",
       " '161': 23,\n",
       " '162': 23,\n",
       " '163': 16,\n",
       " '164': 19,\n",
       " '165': 18,\n",
       " '166': 5,\n",
       " '167': 15,\n",
       " '168': 8,\n",
       " '169': 12,\n",
       " '17': 2,\n",
       " '170': 5,\n",
       " '171': 23,\n",
       " '172': 11,\n",
       " '173': 20,\n",
       " '174': 7,\n",
       " '175': 6,\n",
       " '176': 21,\n",
       " '177': 10,\n",
       " '178': 3,\n",
       " '179': 22,\n",
       " '18': 21,\n",
       " '180': 18,\n",
       " '181': 5,\n",
       " '182': 20,\n",
       " '183': 0,\n",
       " '184': 7,\n",
       " '185': 10,\n",
       " '186': 10,\n",
       " '187': 19,\n",
       " '188': 4,\n",
       " '189': 6,\n",
       " '19': 23,\n",
       " '190': 21,\n",
       " '191': 11,\n",
       " '192': 11,\n",
       " '193': 12,\n",
       " '194': 19,\n",
       " '195': 4,\n",
       " '196': 18,\n",
       " '197': 17,\n",
       " '198': 16,\n",
       " '199': 10,\n",
       " '2': 17,\n",
       " '20': 0,\n",
       " '200': 22,\n",
       " '201': 4,\n",
       " '202': 8,\n",
       " '203': 16,\n",
       " '204': 19,\n",
       " '205': 20,\n",
       " '206': 19,\n",
       " '207': 1,\n",
       " '208': 1,\n",
       " '209': 17,\n",
       " '21': 6,\n",
       " '210': 3,\n",
       " '211': 8,\n",
       " '212': 16,\n",
       " '213': 1,\n",
       " '214': 13,\n",
       " '215': 18,\n",
       " '216': 9,\n",
       " '217': 9,\n",
       " '218': 9,\n",
       " '219': 9,\n",
       " '22': 6,\n",
       " '220': 14,\n",
       " '221': 21,\n",
       " '222': 18,\n",
       " '223': 3,\n",
       " '224': 21,\n",
       " '225': 5,\n",
       " '226': 18,\n",
       " '227': 12,\n",
       " '228': 2,\n",
       " '229': 22,\n",
       " '23': 22,\n",
       " '230': 11,\n",
       " '231': 21,\n",
       " '232': 8,\n",
       " '233': 17,\n",
       " '234': 0,\n",
       " '235': 20,\n",
       " '236': 13,\n",
       " '237': 4,\n",
       " '238': 14,\n",
       " '239': 11,\n",
       " '24': 17,\n",
       " '240': 0,\n",
       " '241': 8,\n",
       " '242': 8,\n",
       " '243': 3,\n",
       " '244': 20,\n",
       " '245': 0,\n",
       " '246': 11,\n",
       " '247': 0,\n",
       " '248': 13,\n",
       " '249': 10,\n",
       " '25': 6,\n",
       " '250': 5,\n",
       " '251': 2,\n",
       " '252': 14,\n",
       " '253': 4,\n",
       " '254': 14,\n",
       " '255': 3,\n",
       " '256': 18,\n",
       " '257': 9,\n",
       " '258': 13,\n",
       " '259': 0,\n",
       " '26': 3,\n",
       " '260': 20,\n",
       " '261': 16,\n",
       " '262': 17,\n",
       " '263': 19,\n",
       " '27': 6,\n",
       " '28': 20,\n",
       " '29': 6,\n",
       " '3': 21,\n",
       " '30': 13,\n",
       " '31': 2,\n",
       " '32': 9,\n",
       " '33': 1,\n",
       " '34': 0,\n",
       " '35': 7,\n",
       " '36': 9,\n",
       " '37': 20,\n",
       " '38': 12,\n",
       " '39': 6,\n",
       " '4': 14,\n",
       " '40': 13,\n",
       " '41': 12,\n",
       " '42': 9,\n",
       " '43': 13,\n",
       " '44': 6,\n",
       " '45': 21,\n",
       " '46': 15,\n",
       " '47': 9,\n",
       " '48': 6,\n",
       " '49': 21,\n",
       " '5': 5,\n",
       " '50': 0,\n",
       " '51': 8,\n",
       " '52': 15,\n",
       " '53': 18,\n",
       " '54': 19,\n",
       " '55': 13,\n",
       " '56': 8,\n",
       " '58': 10,\n",
       " '59': 10,\n",
       " '6': 4,\n",
       " '60': 12,\n",
       " '61': 3,\n",
       " '62': 11,\n",
       " '63': 21,\n",
       " '64': 14,\n",
       " '65': 18,\n",
       " '66': 0,\n",
       " '67': 22,\n",
       " '68': 18,\n",
       " '69': 11,\n",
       " '7': 14,\n",
       " '70': 17,\n",
       " '71': 5,\n",
       " '72': 7,\n",
       " '73': 12,\n",
       " '74': 3,\n",
       " '75': 4,\n",
       " '76': 16,\n",
       " '77': 15,\n",
       " '78': 18,\n",
       " '79': 23,\n",
       " '8': 18,\n",
       " '80': 22,\n",
       " '81': 23,\n",
       " '82': 20,\n",
       " '83': 21,\n",
       " '84': 19,\n",
       " '85': 5,\n",
       " '86': 17,\n",
       " '87': 18,\n",
       " '88': 1,\n",
       " '89': 19,\n",
       " '9': 19,\n",
       " '90': 17,\n",
       " '91': 12,\n",
       " '92': 15,\n",
       " '93': 23,\n",
       " '94': 7,\n",
       " '95': 12,\n",
       " '96': 1,\n",
       " '97': 20,\n",
       " '98': 11,\n",
       " '99': 21}"
      ]
     },
     "execution_count": 22,
     "metadata": {},
     "output_type": "execute_result"
    }
   ],
   "source": [
    "attachment = torch.argmax(F.softmax(model.attachment_matrix, dim=1), dim=1).detach().cpu().numpy()\n",
    "community_assignment = dict(zip(targetColumns, attachment))\n",
    "community_assignment"
   ]
  },
  {
   "cell_type": "code",
   "execution_count": 23,
   "metadata": {},
   "outputs": [],
   "source": [
    "# 20 comm\n",
    "# 0.505"
   ]
  },
  {
   "cell_type": "code",
   "execution_count": 24,
   "metadata": {},
   "outputs": [],
   "source": [
    "# 50 comm\n",
    "# "
   ]
  }
 ],
 "metadata": {
  "kernelspec": {
   "display_name": "Python 3",
   "language": "python",
   "name": "python3"
  },
  "language_info": {
   "codemirror_mode": {
    "name": "ipython",
    "version": 3
   },
   "file_extension": ".py",
   "mimetype": "text/x-python",
   "name": "python",
   "nbconvert_exporter": "python",
   "pygments_lexer": "ipython3",
   "version": "3.6.9"
  }
 },
 "nbformat": 4,
 "nbformat_minor": 2
}
