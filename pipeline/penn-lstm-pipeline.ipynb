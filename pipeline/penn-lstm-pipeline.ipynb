{
 "cells": [
  {
   "cell_type": "code",
   "execution_count": 1,
   "metadata": {},
   "outputs": [],
   "source": [
    "import pandas as pd\n",
    "import numpy as np\n",
    "import torch\n",
    "import torch.nn as nn\n",
    "import torch.optim as optim\n",
    "import torch.nn.functional as F\n",
    "\n",
    "import matplotlib.pyplot as plt\n",
    "from sklearn.metrics import r2_score\n",
    "from sklearn.metrics import mean_squared_error\n",
    "from sklearn.metrics import mean_absolute_error"
   ]
  },
  {
   "cell_type": "code",
   "execution_count": 2,
   "metadata": {},
   "outputs": [
    {
     "data": {
      "text/plain": [
       "device(type='cuda', index=0)"
      ]
     },
     "execution_count": 2,
     "metadata": {},
     "output_type": "execute_result"
    }
   ],
   "source": [
    "device = torch.device(\"cuda:0\" if torch.cuda.is_available() else \"cpu\")\n",
    "device"
   ]
  },
  {
   "cell_type": "code",
   "execution_count": 3,
   "metadata": {},
   "outputs": [],
   "source": [
    "dataset = pd.read_csv('/home/urwa/Documents/side_projects/urban/data/featureData/penn.csv')"
   ]
  },
  {
   "cell_type": "code",
   "execution_count": 4,
   "metadata": {},
   "outputs": [
    {
     "data": {
      "text/plain": [
       "(8757, 1045)"
      ]
     },
     "execution_count": 4,
     "metadata": {},
     "output_type": "execute_result"
    }
   ],
   "source": [
    "dataset.shape"
   ]
  },
  {
   "cell_type": "code",
   "execution_count": 5,
   "metadata": {},
   "outputs": [
    {
     "data": {
      "text/html": [
       "<div>\n",
       "<style scoped>\n",
       "    .dataframe tbody tr th:only-of-type {\n",
       "        vertical-align: middle;\n",
       "    }\n",
       "\n",
       "    .dataframe tbody tr th {\n",
       "        vertical-align: top;\n",
       "    }\n",
       "\n",
       "    .dataframe thead th {\n",
       "        text-align: right;\n",
       "    }\n",
       "</style>\n",
       "<table border=\"1\" class=\"dataframe\">\n",
       "  <thead>\n",
       "    <tr style=\"text-align: right;\">\n",
       "      <th></th>\n",
       "      <th>Date</th>\n",
       "      <th>Hour</th>\n",
       "      <th>1</th>\n",
       "      <th>10</th>\n",
       "      <th>100</th>\n",
       "      <th>101</th>\n",
       "      <th>102</th>\n",
       "      <th>106</th>\n",
       "      <th>107</th>\n",
       "      <th>108</th>\n",
       "      <th>...</th>\n",
       "      <th>91_lag_3</th>\n",
       "      <th>92_lag_3</th>\n",
       "      <th>93_lag_3</th>\n",
       "      <th>94_lag_3</th>\n",
       "      <th>95_lag_3</th>\n",
       "      <th>96_lag_3</th>\n",
       "      <th>97_lag_3</th>\n",
       "      <th>98_lag_3</th>\n",
       "      <th>99_lag_3</th>\n",
       "      <th>arrival_lag_3</th>\n",
       "    </tr>\n",
       "  </thead>\n",
       "  <tbody>\n",
       "    <tr>\n",
       "      <th>0</th>\n",
       "      <td>2018-01-01</td>\n",
       "      <td>3</td>\n",
       "      <td>5</td>\n",
       "      <td>0</td>\n",
       "      <td>3</td>\n",
       "      <td>0</td>\n",
       "      <td>0</td>\n",
       "      <td>0</td>\n",
       "      <td>26</td>\n",
       "      <td>0</td>\n",
       "      <td>...</td>\n",
       "      <td>1.0</td>\n",
       "      <td>0.0</td>\n",
       "      <td>0.0</td>\n",
       "      <td>0.0</td>\n",
       "      <td>1.0</td>\n",
       "      <td>0.0</td>\n",
       "      <td>0.0</td>\n",
       "      <td>0.0</td>\n",
       "      <td>0.0</td>\n",
       "      <td>0.0</td>\n",
       "    </tr>\n",
       "    <tr>\n",
       "      <th>1</th>\n",
       "      <td>2018-01-01</td>\n",
       "      <td>4</td>\n",
       "      <td>3</td>\n",
       "      <td>0</td>\n",
       "      <td>7</td>\n",
       "      <td>0</td>\n",
       "      <td>0</td>\n",
       "      <td>0</td>\n",
       "      <td>8</td>\n",
       "      <td>0</td>\n",
       "      <td>...</td>\n",
       "      <td>0.0</td>\n",
       "      <td>0.0</td>\n",
       "      <td>1.0</td>\n",
       "      <td>0.0</td>\n",
       "      <td>3.0</td>\n",
       "      <td>0.0</td>\n",
       "      <td>2.0</td>\n",
       "      <td>0.0</td>\n",
       "      <td>0.0</td>\n",
       "      <td>1.0</td>\n",
       "    </tr>\n",
       "    <tr>\n",
       "      <th>2</th>\n",
       "      <td>2018-01-01</td>\n",
       "      <td>5</td>\n",
       "      <td>6</td>\n",
       "      <td>0</td>\n",
       "      <td>1</td>\n",
       "      <td>1</td>\n",
       "      <td>0</td>\n",
       "      <td>2</td>\n",
       "      <td>1</td>\n",
       "      <td>0</td>\n",
       "      <td>...</td>\n",
       "      <td>0.0</td>\n",
       "      <td>0.0</td>\n",
       "      <td>0.0</td>\n",
       "      <td>0.0</td>\n",
       "      <td>1.0</td>\n",
       "      <td>0.0</td>\n",
       "      <td>1.0</td>\n",
       "      <td>1.0</td>\n",
       "      <td>0.0</td>\n",
       "      <td>1.0</td>\n",
       "    </tr>\n",
       "  </tbody>\n",
       "</table>\n",
       "<p>3 rows × 1045 columns</p>\n",
       "</div>"
      ],
      "text/plain": [
       "         Date  Hour  1  10  100  101  102  106  107  108  ...  91_lag_3  \\\n",
       "0  2018-01-01     3  5   0    3    0    0    0   26    0  ...       1.0   \n",
       "1  2018-01-01     4  3   0    7    0    0    0    8    0  ...       0.0   \n",
       "2  2018-01-01     5  6   0    1    1    0    2    1    0  ...       0.0   \n",
       "\n",
       "   92_lag_3  93_lag_3  94_lag_3  95_lag_3  96_lag_3  97_lag_3  98_lag_3  \\\n",
       "0       0.0       0.0       0.0       1.0       0.0       0.0       0.0   \n",
       "1       0.0       1.0       0.0       3.0       0.0       2.0       0.0   \n",
       "2       0.0       0.0       0.0       1.0       0.0       1.0       1.0   \n",
       "\n",
       "   99_lag_3  arrival_lag_3  \n",
       "0       0.0            0.0  \n",
       "1       0.0            1.0  \n",
       "2       0.0            1.0  \n",
       "\n",
       "[3 rows x 1045 columns]"
      ]
     },
     "execution_count": 5,
     "metadata": {},
     "output_type": "execute_result"
    }
   ],
   "source": [
    "dataset.head(3)"
   ]
  },
  {
   "cell_type": "code",
   "execution_count": 6,
   "metadata": {},
   "outputs": [
    {
     "data": {
      "text/plain": [
       "774"
      ]
     },
     "execution_count": 6,
     "metadata": {},
     "output_type": "execute_result"
    }
   ],
   "source": [
    "lag_columns = [c for c in dataset.columns if 'lag' in c]\n",
    "len(lag_columns)"
   ]
  },
  {
   "cell_type": "code",
   "execution_count": 7,
   "metadata": {},
   "outputs": [
    {
     "data": {
      "text/plain": [
       "(8757, 271)"
      ]
     },
     "execution_count": 7,
     "metadata": {},
     "output_type": "execute_result"
    }
   ],
   "source": [
    "dataset = dataset[[c for c in dataset.columns if c not in lag_columns]]\n",
    "dataset.shape"
   ]
  },
  {
   "cell_type": "code",
   "execution_count": 8,
   "metadata": {},
   "outputs": [
    {
     "data": {
      "text/plain": [
       "257"
      ]
     },
     "execution_count": 8,
     "metadata": {},
     "output_type": "execute_result"
    }
   ],
   "source": [
    "DateColumns = ['Date']\n",
    "\n",
    "ext_columns = ['Dow', 'arrival','maxtemp', 'mintemp', 'avgtemp', 'departure', 'hdd',\n",
    "       'cdd', 'participation', 'newsnow', 'snowdepth', 'ifSnow']\n",
    "\n",
    "targetColumns = [c for c in dataset.columns if c not in ext_columns and \\\n",
    "                c not in DateColumns and c not in lag_columns and c != 'Hour']\n",
    "len(targetColumns)"
   ]
  },
  {
   "cell_type": "code",
   "execution_count": 9,
   "metadata": {},
   "outputs": [
    {
     "data": {
      "text/plain": [
       "13"
      ]
     },
     "execution_count": 9,
     "metadata": {},
     "output_type": "execute_result"
    }
   ],
   "source": [
    "features_cols = [c for c in dataset.columns if c not in targetColumns and c not in DateColumns]\n",
    "len(features_cols)"
   ]
  },
  {
   "cell_type": "code",
   "execution_count": 10,
   "metadata": {},
   "outputs": [
    {
     "name": "stdout",
     "output_type": "stream",
     "text": [
      "6567\n",
      "(6567, 271)\n",
      "(2190, 271)\n"
     ]
    }
   ],
   "source": [
    "sep = int(0.75*len(dataset))\n",
    "print(sep)\n",
    "\n",
    "\n",
    "trainData = dataset[:sep]\n",
    "testData = dataset[sep:]\n",
    "\n",
    "print(trainData.shape)\n",
    "print(testData.shape)"
   ]
  },
  {
   "cell_type": "code",
   "execution_count": 11,
   "metadata": {},
   "outputs": [
    {
     "name": "stdout",
     "output_type": "stream",
     "text": [
      "torch.Size([6567, 13])\n",
      "torch.Size([6567, 257])\n",
      "torch.Size([2190, 13])\n",
      "torch.Size([2190, 257])\n"
     ]
    }
   ],
   "source": [
    "X_train = trainData[features_cols].values\n",
    "X_train = torch.tensor(X_train).float().to(device)\n",
    "print(X_train.shape)\n",
    "\n",
    "y_train = trainData[targetColumns].values\n",
    "y_train = torch.tensor(y_train).float().to(device)\n",
    "print(y_train.shape)\n",
    "\n",
    "X_test = testData[features_cols].values\n",
    "X_test = torch.tensor(X_test).float().to(device)\n",
    "print(X_test.shape)\n",
    "\n",
    "y_test = testData[targetColumns].values\n",
    "y_test = torch.tensor(y_test).float().to(device)\n",
    "print(y_test.shape)"
   ]
  },
  {
   "cell_type": "code",
   "execution_count": 12,
   "metadata": {},
   "outputs": [],
   "source": [
    "def create_inout_sequences(x,y, tw):\n",
    "    inout_seq = []\n",
    "    L = len(x)\n",
    "    for i in range(L-tw):\n",
    "        train_seq_x = x[i:i+tw]\n",
    "        train_seq_y = y[i:i+tw]\n",
    "#         train_seq = torch.cat((train_seq_x,train_seq_y),axis=1)\n",
    "        \n",
    "#         train_label = y[i+tw:i+tw+1]\n",
    "        train_label = y[i+1:i+tw+1]\n",
    "        inout_seq.append((train_seq_x, train_seq_y ,train_label))\n",
    "    return inout_seq"
   ]
  },
  {
   "cell_type": "code",
   "execution_count": 13,
   "metadata": {},
   "outputs": [],
   "source": [
    "bptt = 6"
   ]
  },
  {
   "cell_type": "code",
   "execution_count": 14,
   "metadata": {},
   "outputs": [],
   "source": [
    "train_inout_seq = create_inout_sequences(X_train,y_train, bptt)"
   ]
  },
  {
   "cell_type": "code",
   "execution_count": 15,
   "metadata": {},
   "outputs": [
    {
     "data": {
      "text/plain": [
       "(torch.Size([6, 13]), torch.Size([6, 257]), torch.Size([6, 257]))"
      ]
     },
     "execution_count": 15,
     "metadata": {},
     "output_type": "execute_result"
    }
   ],
   "source": [
    "train_inout_seq[0][0].shape,train_inout_seq[0][1].shape, train_inout_seq[0][2].shape"
   ]
  },
  {
   "cell_type": "code",
   "execution_count": 16,
   "metadata": {},
   "outputs": [],
   "source": [
    "test_inout_seq = create_inout_sequences(X_test,y_test, bptt)"
   ]
  },
  {
   "cell_type": "code",
   "execution_count": 17,
   "metadata": {},
   "outputs": [],
   "source": [
    "class LSTM(nn.Module):\n",
    "    def __init__(self, feat_size=1, hidden_layer_size=100, network_size=1, layers=1, communities=10):\n",
    "        super().__init__()\n",
    "        \n",
    "        # aggregation\n",
    "        self.attachment_matrix = torch.nn.Parameter(torch.randn(network_size,communities))\n",
    "        self.attachment_matrix.requires_grad = True\n",
    "        \n",
    "        \n",
    "        self.hidden_layer_size = hidden_layer_size\n",
    "        \n",
    "        self.hidden_cell = (torch.zeros(layers,1,self.hidden_layer_size),\n",
    "                    torch.zeros(layers,1,self.hidden_layer_size))\n",
    "        \n",
    "        lstm_input = communities + feat_size\n",
    "        self.lstm = nn.LSTM(input_size=lstm_input, hidden_size=hidden_layer_size, num_layers=layers)\n",
    "\n",
    "        #disaggregation\n",
    "#         self.linear_1 = nn.Linear(hidden_layer_size, hidden_layer_size)\n",
    "        self.linear_2 = nn.Linear(hidden_layer_size, network_size)\n",
    "\n",
    "\n",
    "    def forward(self, input_seq, feat):\n",
    "        \n",
    "        w = F.softmax(self.attachment_matrix, dim=1)\n",
    "        x = torch.matmul(input_seq, self.attachment_matrix)\n",
    "        x = torch.cat((x,feat),axis=1)\n",
    "\n",
    "        \n",
    "        lstm_out, self.hidden_cell = self.lstm(x.view(len(input_seq) ,1, -1), self.hidden_cell)\n",
    "        \n",
    "        predictions = self.linear_2(lstm_out.view(len(input_seq), -1))\n",
    "#         predictions = F.relu(predictions)\n",
    "#         predictions = self.linear_2(predictions)\n",
    "        \n",
    "        return predictions"
   ]
  },
  {
   "cell_type": "code",
   "execution_count": 18,
   "metadata": {},
   "outputs": [],
   "source": [
    "def evaluate(model):\n",
    "    model.eval()\n",
    "    prediction = []\n",
    "    with torch.no_grad():\n",
    "        for feat,seq, labels in test_inout_seq:\n",
    "            model.hidden = (torch.zeros(layers, 1, model.hidden_layer_size),\n",
    "                            torch.zeros(layers, 1, model.hidden_layer_size))\n",
    "            prediction.append(model(seq,feat)[-1])\n",
    "\n",
    "    y_test_ = torch.stack([labels[-1] for feat,seq, labels in test_inout_seq], axis=0).detach().cpu().numpy()\n",
    "    y_pred_ = torch.stack(prediction).detach().cpu().numpy()\n",
    "\n",
    "    r2 = r2_score(y_test_, y_pred_, multioutput='variance_weighted')\n",
    "    rmse = mean_squared_error(y_test_, y_pred_)\n",
    "    mae = mean_absolute_error(y_test_, y_pred_)\n",
    "#     print(\"r2: \",r2)\n",
    "    return (r2, rmse, mae)"
   ]
  },
  {
   "cell_type": "code",
   "execution_count": 19,
   "metadata": {},
   "outputs": [],
   "source": [
    "layers = 1\n",
    "communities = 24\n",
    "network_size = len(targetColumns)\n",
    "feat_size = len(features_cols)\n",
    "\n",
    "model = LSTM(feat_size = feat_size, hidden_layer_size=communities,\n",
    "             network_size=network_size, layers=layers,\n",
    "            communities=communities).to(device)\n",
    "\n",
    "loss_function = nn.L1Loss()   \n",
    "optimizer = torch.optim.Adam(model.parameters(), lr=0.001)\n",
    "scheduler = torch.optim.lr_scheduler.StepLR(optimizer, step_size=30, gamma=0.5)"
   ]
  },
  {
   "cell_type": "code",
   "execution_count": 20,
   "metadata": {},
   "outputs": [
    {
     "name": "stdout",
     "output_type": "stream",
     "text": [
      "epoch:   1 loss: 0.85957229 r2: 0.351 rmse: 10.559 mae: 1.036\n",
      "epoch:  11 loss: 0.75452864 r2: 0.607 rmse: 6.389 mae: 0.860\n",
      "epoch:  21 loss: 0.75605887 r2: 0.625 rmse: 6.103 mae: 0.863\n",
      "epoch:  31 loss: 0.75064468 r2: 0.643 rmse: 5.807 mae: 0.859\n",
      "epoch:  41 loss: 0.74021947 r2: 0.647 rmse: 5.735 mae: 0.848\n",
      "epoch:  51 loss: 0.74765104 r2: 0.643 rmse: 5.815 mae: 0.842\n",
      "epoch:  61 loss: 0.75176620 r2: 0.648 rmse: 5.732 mae: 0.838\n",
      "epoch:  71 loss: 0.74639636 r2: 0.648 rmse: 5.722 mae: 0.841\n",
      "epoch:  81 loss: 0.76028866 r2: 0.652 rmse: 5.663 mae: 0.840\n",
      "epoch:  91 loss: 0.75421071 r2: 0.651 rmse: 5.681 mae: 0.825\n",
      "epoch:  99 loss: 0.7773852348\n"
     ]
    }
   ],
   "source": [
    "epochs = 100\n",
    "\n",
    "\n",
    "for i in range(epochs):\n",
    "    model.train()\n",
    "    for feat,seq, labels in train_inout_seq:\n",
    "        optimizer.zero_grad()\n",
    "        model.hidden_cell = (torch.zeros(layers, 1, model.hidden_layer_size).to(device),\n",
    "                        torch.zeros(layers, 1, model.hidden_layer_size).to(device))\n",
    "\n",
    "        y_pred = model(seq, feat)\n",
    "\n",
    "        single_loss = loss_function(y_pred, labels)\n",
    "        single_loss.backward()\n",
    "        optimizer.step()\n",
    "        \n",
    "    scheduler.step()\n",
    "    if i%10 == 1:\n",
    "        r2, rmse, mae = evaluate(model)\n",
    "        print(f'epoch: {i:3} loss: {single_loss.item():10.8f} r2: {r2:5.3f} rmse: {rmse:5.3f} mae: {mae:5.3f}')\n",
    "\n",
    "print(f'epoch: {i:3} loss: {single_loss.item():10.10f}')"
   ]
  },
  {
   "cell_type": "code",
   "execution_count": 21,
   "metadata": {},
   "outputs": [
    {
     "data": {
      "text/plain": [
       "(0.6602214953061789, 5.527703, 0.8185848)"
      ]
     },
     "execution_count": 21,
     "metadata": {},
     "output_type": "execute_result"
    }
   ],
   "source": [
    "evaluate(model)"
   ]
  },
  {
   "cell_type": "code",
   "execution_count": 22,
   "metadata": {},
   "outputs": [
    {
     "data": {
      "text/plain": [
       "{'1': 6,\n",
       " '10': 8,\n",
       " '100': 5,\n",
       " '101': 0,\n",
       " '102': 1,\n",
       " '106': 21,\n",
       " '107': 9,\n",
       " '108': 3,\n",
       " '109': 15,\n",
       " '11': 23,\n",
       " '111': 7,\n",
       " '112': 6,\n",
       " '113': 5,\n",
       " '114': 3,\n",
       " '115': 17,\n",
       " '116': 0,\n",
       " '117': 2,\n",
       " '118': 4,\n",
       " '119': 0,\n",
       " '12': 6,\n",
       " '120': 22,\n",
       " '121': 0,\n",
       " '122': 11,\n",
       " '123': 17,\n",
       " '124': 1,\n",
       " '125': 22,\n",
       " '126': 5,\n",
       " '127': 10,\n",
       " '128': 0,\n",
       " '129': 7,\n",
       " '13': 1,\n",
       " '130': 21,\n",
       " '131': 20,\n",
       " '132': 6,\n",
       " '133': 11,\n",
       " '134': 14,\n",
       " '135': 23,\n",
       " '136': 12,\n",
       " '137': 0,\n",
       " '138': 6,\n",
       " '139': 7,\n",
       " '14': 17,\n",
       " '140': 12,\n",
       " '141': 12,\n",
       " '142': 16,\n",
       " '143': 3,\n",
       " '144': 5,\n",
       " '145': 0,\n",
       " '146': 2,\n",
       " '147': 21,\n",
       " '148': 15,\n",
       " '149': 17,\n",
       " '15': 7,\n",
       " '150': 17,\n",
       " '151': 23,\n",
       " '152': 18,\n",
       " '153': 8,\n",
       " '154': 17,\n",
       " '155': 14,\n",
       " '156': 7,\n",
       " '157': 4,\n",
       " '158': 5,\n",
       " '159': 0,\n",
       " '16': 22,\n",
       " '160': 20,\n",
       " '161': 10,\n",
       " '162': 3,\n",
       " '163': 18,\n",
       " '164': 21,\n",
       " '165': 17,\n",
       " '166': 7,\n",
       " '167': 23,\n",
       " '168': 1,\n",
       " '169': 12,\n",
       " '17': 18,\n",
       " '170': 19,\n",
       " '171': 13,\n",
       " '172': 0,\n",
       " '173': 5,\n",
       " '174': 22,\n",
       " '175': 18,\n",
       " '176': 4,\n",
       " '177': 12,\n",
       " '178': 18,\n",
       " '179': 17,\n",
       " '18': 10,\n",
       " '180': 19,\n",
       " '181': 2,\n",
       " '182': 7,\n",
       " '183': 5,\n",
       " '184': 15,\n",
       " '185': 21,\n",
       " '187': 15,\n",
       " '188': 17,\n",
       " '189': 0,\n",
       " '19': 0,\n",
       " '190': 11,\n",
       " '191': 5,\n",
       " '192': 23,\n",
       " '193': 16,\n",
       " '194': 19,\n",
       " '195': 23,\n",
       " '196': 10,\n",
       " '197': 0,\n",
       " '198': 14,\n",
       " '199': 20,\n",
       " '2': 5,\n",
       " '20': 12,\n",
       " '200': 17,\n",
       " '201': 11,\n",
       " '202': 1,\n",
       " '203': 23,\n",
       " '204': 18,\n",
       " '205': 21,\n",
       " '206': 7,\n",
       " '207': 22,\n",
       " '208': 10,\n",
       " '209': 5,\n",
       " '21': 4,\n",
       " '210': 23,\n",
       " '211': 16,\n",
       " '212': 21,\n",
       " '213': 23,\n",
       " '214': 4,\n",
       " '215': 20,\n",
       " '216': 17,\n",
       " '217': 2,\n",
       " '218': 2,\n",
       " '219': 5,\n",
       " '22': 8,\n",
       " '220': 20,\n",
       " '221': 0,\n",
       " '222': 23,\n",
       " '223': 21,\n",
       " '224': 15,\n",
       " '225': 0,\n",
       " '226': 0,\n",
       " '227': 18,\n",
       " '228': 5,\n",
       " '229': 15,\n",
       " '23': 16,\n",
       " '230': 9,\n",
       " '231': 18,\n",
       " '232': 12,\n",
       " '233': 5,\n",
       " '234': 13,\n",
       " '235': 17,\n",
       " '236': 11,\n",
       " '237': 12,\n",
       " '238': 17,\n",
       " '239': 19,\n",
       " '24': 2,\n",
       " '240': 15,\n",
       " '241': 17,\n",
       " '242': 5,\n",
       " '243': 23,\n",
       " '244': 22,\n",
       " '245': 11,\n",
       " '246': 7,\n",
       " '247': 17,\n",
       " '248': 10,\n",
       " '249': 17,\n",
       " '25': 19,\n",
       " '250': 10,\n",
       " '251': 15,\n",
       " '252': 7,\n",
       " '253': 17,\n",
       " '254': 0,\n",
       " '255': 5,\n",
       " '256': 23,\n",
       " '257': 12,\n",
       " '258': 0,\n",
       " '259': 21,\n",
       " '26': 8,\n",
       " '260': 10,\n",
       " '261': 2,\n",
       " '262': 8,\n",
       " '263': 15,\n",
       " '27': 21,\n",
       " '28': 23,\n",
       " '29': 21,\n",
       " '3': 20,\n",
       " '30': 22,\n",
       " '31': 15,\n",
       " '32': 12,\n",
       " '33': 20,\n",
       " '34': 18,\n",
       " '35': 2,\n",
       " '36': 11,\n",
       " '37': 21,\n",
       " '38': 13,\n",
       " '39': 6,\n",
       " '4': 15,\n",
       " '40': 15,\n",
       " '41': 17,\n",
       " '42': 17,\n",
       " '43': 2,\n",
       " '44': 8,\n",
       " '45': 4,\n",
       " '46': 1,\n",
       " '47': 7,\n",
       " '48': 4,\n",
       " '49': 12,\n",
       " '5': 12,\n",
       " '50': 1,\n",
       " '51': 4,\n",
       " '52': 21,\n",
       " '53': 2,\n",
       " '54': 17,\n",
       " '55': 12,\n",
       " '56': 17,\n",
       " '58': 16,\n",
       " '59': 8,\n",
       " '6': 12,\n",
       " '60': 6,\n",
       " '61': 0,\n",
       " '62': 23,\n",
       " '63': 2,\n",
       " '64': 23,\n",
       " '65': 12,\n",
       " '66': 10,\n",
       " '67': 4,\n",
       " '68': 20,\n",
       " '69': 17,\n",
       " '7': 21,\n",
       " '70': 12,\n",
       " '71': 8,\n",
       " '72': 2,\n",
       " '73': 14,\n",
       " '74': 21,\n",
       " '75': 1,\n",
       " '76': 20,\n",
       " '77': 23,\n",
       " '78': 16,\n",
       " '79': 15,\n",
       " '8': 12,\n",
       " '80': 17,\n",
       " '81': 22,\n",
       " '82': 17,\n",
       " '83': 15,\n",
       " '84': 23,\n",
       " '85': 4,\n",
       " '86': 14,\n",
       " '87': 22,\n",
       " '88': 22,\n",
       " '89': 8,\n",
       " '9': 7,\n",
       " '90': 3,\n",
       " '91': 2,\n",
       " '92': 10,\n",
       " '93': 22,\n",
       " '94': 11,\n",
       " '95': 10,\n",
       " '96': 5,\n",
       " '97': 14,\n",
       " '98': 15,\n",
       " '99': 4}"
      ]
     },
     "execution_count": 22,
     "metadata": {},
     "output_type": "execute_result"
    }
   ],
   "source": [
    "attachment = torch.argmax(F.softmax(model.attachment_matrix, dim=1), dim=1).detach().cpu().numpy()\n",
    "community_assignment = dict(zip(targetColumns, attachment))\n",
    "community_assignment"
   ]
  },
  {
   "cell_type": "code",
   "execution_count": 23,
   "metadata": {},
   "outputs": [],
   "source": [
    "# 20 comm\n",
    "# 0.505"
   ]
  },
  {
   "cell_type": "code",
   "execution_count": 24,
   "metadata": {},
   "outputs": [],
   "source": [
    "# 50 comm\n",
    "# "
   ]
  }
 ],
 "metadata": {
  "kernelspec": {
   "display_name": "Python 3",
   "language": "python",
   "name": "python3"
  },
  "language_info": {
   "codemirror_mode": {
    "name": "ipython",
    "version": 3
   },
   "file_extension": ".py",
   "mimetype": "text/x-python",
   "name": "python",
   "nbconvert_exporter": "python",
   "pygments_lexer": "ipython3",
   "version": "3.6.9"
  }
 },
 "nbformat": 4,
 "nbformat_minor": 2
}
