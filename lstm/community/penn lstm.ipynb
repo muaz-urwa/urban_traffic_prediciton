{
 "cells": [
  {
   "cell_type": "code",
   "execution_count": 1,
   "metadata": {},
   "outputs": [],
   "source": [
    "import pandas as pd\n",
    "import numpy as np\n",
    "import torch\n",
    "import torch.nn as nn\n",
    "import torch.optim as optim\n",
    "import torch.nn.functional as F\n",
    "\n",
    "import matplotlib.pyplot as plt\n",
    "from sklearn.metrics import r2_score"
   ]
  },
  {
   "cell_type": "code",
   "execution_count": 2,
   "metadata": {},
   "outputs": [
    {
     "data": {
      "text/plain": [
       "device(type='cuda', index=0)"
      ]
     },
     "execution_count": 2,
     "metadata": {},
     "output_type": "execute_result"
    }
   ],
   "source": [
    "device = torch.device(\"cuda:0\" if torch.cuda.is_available() else \"cpu\")\n",
    "device"
   ]
  },
  {
   "cell_type": "code",
   "execution_count": 3,
   "metadata": {},
   "outputs": [],
   "source": [
    "dataset = pd.read_csv('/home/urwa/Documents/side_projects/urban/data/featureData/com_penn.csv')"
   ]
  },
  {
   "cell_type": "code",
   "execution_count": 4,
   "metadata": {},
   "outputs": [
    {
     "data": {
      "text/plain": [
       "(8757, 113)"
      ]
     },
     "execution_count": 4,
     "metadata": {},
     "output_type": "execute_result"
    }
   ],
   "source": [
    "dataset.shape"
   ]
  },
  {
   "cell_type": "code",
   "execution_count": 5,
   "metadata": {},
   "outputs": [
    {
     "data": {
      "text/html": [
       "<div>\n",
       "<style scoped>\n",
       "    .dataframe tbody tr th:only-of-type {\n",
       "        vertical-align: middle;\n",
       "    }\n",
       "\n",
       "    .dataframe tbody tr th {\n",
       "        vertical-align: top;\n",
       "    }\n",
       "\n",
       "    .dataframe thead th {\n",
       "        text-align: right;\n",
       "    }\n",
       "</style>\n",
       "<table border=\"1\" class=\"dataframe\">\n",
       "  <thead>\n",
       "    <tr style=\"text-align: right;\">\n",
       "      <th></th>\n",
       "      <th>Date</th>\n",
       "      <th>Hour</th>\n",
       "      <th>0.0</th>\n",
       "      <th>0.1</th>\n",
       "      <th>0.2</th>\n",
       "      <th>1.0</th>\n",
       "      <th>1.1</th>\n",
       "      <th>1.2</th>\n",
       "      <th>1.3</th>\n",
       "      <th>2.0</th>\n",
       "      <th>...</th>\n",
       "      <th>4.1_lag_3</th>\n",
       "      <th>4.2_lag_3</th>\n",
       "      <th>4.3_lag_3</th>\n",
       "      <th>4.4_lag_3</th>\n",
       "      <th>4.5_lag_3</th>\n",
       "      <th>5.0_lag_3</th>\n",
       "      <th>5.1_lag_3</th>\n",
       "      <th>5.2_lag_3</th>\n",
       "      <th>5.3_lag_3</th>\n",
       "      <th>arrival_lag_3</th>\n",
       "    </tr>\n",
       "  </thead>\n",
       "  <tbody>\n",
       "    <tr>\n",
       "      <th>0</th>\n",
       "      <td>2018-01-01</td>\n",
       "      <td>3</td>\n",
       "      <td>134</td>\n",
       "      <td>37</td>\n",
       "      <td>126</td>\n",
       "      <td>15</td>\n",
       "      <td>16</td>\n",
       "      <td>8</td>\n",
       "      <td>35</td>\n",
       "      <td>3</td>\n",
       "      <td>...</td>\n",
       "      <td>2.0</td>\n",
       "      <td>4.0</td>\n",
       "      <td>2.0</td>\n",
       "      <td>0.0</td>\n",
       "      <td>8.0</td>\n",
       "      <td>0.0</td>\n",
       "      <td>0.0</td>\n",
       "      <td>0.0</td>\n",
       "      <td>0.0</td>\n",
       "      <td>0.0</td>\n",
       "    </tr>\n",
       "    <tr>\n",
       "      <th>1</th>\n",
       "      <td>2018-01-01</td>\n",
       "      <td>4</td>\n",
       "      <td>82</td>\n",
       "      <td>22</td>\n",
       "      <td>71</td>\n",
       "      <td>6</td>\n",
       "      <td>11</td>\n",
       "      <td>3</td>\n",
       "      <td>21</td>\n",
       "      <td>3</td>\n",
       "      <td>...</td>\n",
       "      <td>4.0</td>\n",
       "      <td>2.0</td>\n",
       "      <td>7.0</td>\n",
       "      <td>0.0</td>\n",
       "      <td>12.0</td>\n",
       "      <td>0.0</td>\n",
       "      <td>0.0</td>\n",
       "      <td>1.0</td>\n",
       "      <td>0.0</td>\n",
       "      <td>1.0</td>\n",
       "    </tr>\n",
       "    <tr>\n",
       "      <th>2</th>\n",
       "      <td>2018-01-01</td>\n",
       "      <td>5</td>\n",
       "      <td>53</td>\n",
       "      <td>11</td>\n",
       "      <td>24</td>\n",
       "      <td>8</td>\n",
       "      <td>6</td>\n",
       "      <td>1</td>\n",
       "      <td>13</td>\n",
       "      <td>3</td>\n",
       "      <td>...</td>\n",
       "      <td>4.0</td>\n",
       "      <td>1.0</td>\n",
       "      <td>3.0</td>\n",
       "      <td>0.0</td>\n",
       "      <td>32.0</td>\n",
       "      <td>0.0</td>\n",
       "      <td>0.0</td>\n",
       "      <td>0.0</td>\n",
       "      <td>0.0</td>\n",
       "      <td>1.0</td>\n",
       "    </tr>\n",
       "  </tbody>\n",
       "</table>\n",
       "<p>3 rows × 113 columns</p>\n",
       "</div>"
      ],
      "text/plain": [
       "         Date  Hour  0.0  0.1  0.2  1.0  1.1  1.2  1.3  2.0  ...  4.1_lag_3  \\\n",
       "0  2018-01-01     3  134   37  126   15   16    8   35    3  ...        2.0   \n",
       "1  2018-01-01     4   82   22   71    6   11    3   21    3  ...        4.0   \n",
       "2  2018-01-01     5   53   11   24    8    6    1   13    3  ...        4.0   \n",
       "\n",
       "   4.2_lag_3  4.3_lag_3  4.4_lag_3  4.5_lag_3  5.0_lag_3  5.1_lag_3  \\\n",
       "0        4.0        2.0        0.0        8.0        0.0        0.0   \n",
       "1        2.0        7.0        0.0       12.0        0.0        0.0   \n",
       "2        1.0        3.0        0.0       32.0        0.0        0.0   \n",
       "\n",
       "   5.2_lag_3  5.3_lag_3  arrival_lag_3  \n",
       "0        0.0        0.0            0.0  \n",
       "1        1.0        0.0            1.0  \n",
       "2        0.0        0.0            1.0  \n",
       "\n",
       "[3 rows x 113 columns]"
      ]
     },
     "execution_count": 5,
     "metadata": {},
     "output_type": "execute_result"
    }
   ],
   "source": [
    "dataset.head(3)"
   ]
  },
  {
   "cell_type": "code",
   "execution_count": 6,
   "metadata": {},
   "outputs": [
    {
     "data": {
      "text/plain": [
       "75"
      ]
     },
     "execution_count": 6,
     "metadata": {},
     "output_type": "execute_result"
    }
   ],
   "source": [
    "lag_columns = [c for c in dataset.columns if 'lag' in c]\n",
    "len(lag_columns)"
   ]
  },
  {
   "cell_type": "code",
   "execution_count": 7,
   "metadata": {},
   "outputs": [
    {
     "data": {
      "text/plain": [
       "(8757, 38)"
      ]
     },
     "execution_count": 7,
     "metadata": {},
     "output_type": "execute_result"
    }
   ],
   "source": [
    "dataset = dataset[[c for c in dataset.columns if c not in lag_columns]]\n",
    "dataset.shape"
   ]
  },
  {
   "cell_type": "code",
   "execution_count": 8,
   "metadata": {},
   "outputs": [
    {
     "data": {
      "text/plain": [
       "24"
      ]
     },
     "execution_count": 8,
     "metadata": {},
     "output_type": "execute_result"
    }
   ],
   "source": [
    "DateColumns = ['Date']\n",
    "\n",
    "ext_columns = ['Dow', 'arrival','maxtemp', 'mintemp', 'avgtemp', 'departure', 'hdd',\n",
    "       'cdd', 'participation', 'newsnow', 'snowdepth', 'ifSnow']\n",
    "\n",
    "targetColumns = [c for c in dataset.columns if c not in ext_columns and \\\n",
    "                c not in DateColumns and c not in lag_columns and c != 'Hour']\n",
    "len(targetColumns)"
   ]
  },
  {
   "cell_type": "code",
   "execution_count": 9,
   "metadata": {},
   "outputs": [
    {
     "data": {
      "text/plain": [
       "13"
      ]
     },
     "execution_count": 9,
     "metadata": {},
     "output_type": "execute_result"
    }
   ],
   "source": [
    "features_cols = [c for c in dataset.columns if c not in targetColumns and c not in DateColumns]\n",
    "len(features_cols)"
   ]
  },
  {
   "cell_type": "code",
   "execution_count": 10,
   "metadata": {},
   "outputs": [
    {
     "name": "stdout",
     "output_type": "stream",
     "text": [
      "6567\n",
      "(6567, 38)\n",
      "(2190, 38)\n"
     ]
    }
   ],
   "source": [
    "sep = int(0.75*len(dataset))\n",
    "print(sep)\n",
    "\n",
    "\n",
    "trainData = dataset[:sep]\n",
    "testData = dataset[sep:]\n",
    "\n",
    "print(trainData.shape)\n",
    "print(testData.shape)"
   ]
  },
  {
   "cell_type": "code",
   "execution_count": 11,
   "metadata": {},
   "outputs": [
    {
     "name": "stdout",
     "output_type": "stream",
     "text": [
      "torch.Size([6567, 13])\n",
      "torch.Size([6567, 24])\n",
      "torch.Size([2190, 13])\n",
      "torch.Size([2190, 24])\n"
     ]
    }
   ],
   "source": [
    "X_train = trainData[features_cols].values\n",
    "X_train = torch.tensor(X_train).float().to(device)\n",
    "print(X_train.shape)\n",
    "\n",
    "y_train = trainData[targetColumns].values\n",
    "y_train = torch.tensor(y_train).float().to(device)\n",
    "print(y_train.shape)\n",
    "\n",
    "X_test = testData[features_cols].values\n",
    "X_test = torch.tensor(X_test).float().to(device)\n",
    "print(X_test.shape)\n",
    "\n",
    "y_test = testData[targetColumns].values\n",
    "y_test = torch.tensor(y_test).float().to(device)\n",
    "print(y_test.shape)"
   ]
  },
  {
   "cell_type": "code",
   "execution_count": 12,
   "metadata": {},
   "outputs": [],
   "source": [
    "def create_inout_sequences(x,y, tw):\n",
    "    inout_seq = []\n",
    "    L = len(x)\n",
    "    for i in range(L-tw):\n",
    "        train_seq_x = x[i:i+tw]\n",
    "        train_seq_y = y[i:i+tw]\n",
    "        train_seq = torch.cat((train_seq_x,train_seq_y),axis=1)\n",
    "        \n",
    "#         train_label = y[i+tw:i+tw+1]\n",
    "        train_label = y[i+1:i+tw+1]\n",
    "        inout_seq.append((train_seq ,train_label))\n",
    "    return inout_seq"
   ]
  },
  {
   "cell_type": "code",
   "execution_count": 13,
   "metadata": {},
   "outputs": [],
   "source": [
    "bptt = 6"
   ]
  },
  {
   "cell_type": "code",
   "execution_count": 14,
   "metadata": {},
   "outputs": [],
   "source": [
    "train_inout_seq = create_inout_sequences(X_train,y_train, bptt)"
   ]
  },
  {
   "cell_type": "code",
   "execution_count": 15,
   "metadata": {},
   "outputs": [
    {
     "data": {
      "text/plain": [
       "(torch.Size([6, 37]), torch.Size([6, 24]))"
      ]
     },
     "execution_count": 15,
     "metadata": {},
     "output_type": "execute_result"
    }
   ],
   "source": [
    "train_inout_seq[0][0].shape,train_inout_seq[0][1].shape"
   ]
  },
  {
   "cell_type": "code",
   "execution_count": 16,
   "metadata": {},
   "outputs": [],
   "source": [
    "class LSTM(nn.Module):\n",
    "    def __init__(self, input_size=1, hidden_layer_size=100, output_size=1, layers=1):\n",
    "        super().__init__()\n",
    "        self.hidden_layer_size = hidden_layer_size\n",
    "\n",
    "        self.lstm = nn.LSTM(input_size=input_size, hidden_size=hidden_layer_size, num_layers=layers)\n",
    "\n",
    "        self.linear = nn.Linear(hidden_layer_size, output_size)\n",
    "\n",
    "        self.hidden_cell = (torch.zeros(layers,1,self.hidden_layer_size),\n",
    "                            torch.zeros(layers,1,self.hidden_layer_size))\n",
    "\n",
    "    def forward(self, input_seq):\n",
    "        lstm_out, self.hidden_cell = self.lstm(input_seq.view(len(input_seq) ,1, -1), self.hidden_cell)\n",
    "        predictions = self.linear(lstm_out.view(len(input_seq), -1))\n",
    "#         return predictions[-1]\n",
    "        return predictions"
   ]
  },
  {
   "cell_type": "code",
   "execution_count": 17,
   "metadata": {},
   "outputs": [],
   "source": [
    "layers = 2\n",
    "model = LSTM(input_size = 37, hidden_layer_size=258, output_size=24, layers=layers).to(device)\n",
    "loss_function = nn.L1Loss()   \n",
    "optimizer = torch.optim.Adam(model.parameters(), lr=0.001)"
   ]
  },
  {
   "cell_type": "code",
   "execution_count": 18,
   "metadata": {},
   "outputs": [
    {
     "name": "stdout",
     "output_type": "stream",
     "text": [
      "epoch:   1 loss: 4.41970015\n",
      "epoch:  26 loss: 3.61195540\n",
      "epoch:  51 loss: 3.78327012\n",
      "epoch:  76 loss: 3.48215795\n",
      "epoch:  99 loss: 3.1055917740\n"
     ]
    }
   ],
   "source": [
    "epochs = 100\n",
    "\n",
    "\n",
    "for i in range(epochs):\n",
    "    for seq, labels in train_inout_seq:\n",
    "        optimizer.zero_grad()\n",
    "        model.hidden_cell = (torch.zeros(layers, 1, model.hidden_layer_size).to(device),\n",
    "                        torch.zeros(layers, 1, model.hidden_layer_size).to(device))\n",
    "\n",
    "        y_pred = model(seq)\n",
    "\n",
    "        single_loss = loss_function(y_pred, labels)\n",
    "        single_loss.backward()\n",
    "        optimizer.step()\n",
    "\n",
    "    if i%25 == 1:\n",
    "        print(f'epoch: {i:3} loss: {single_loss.item():10.8f}')\n",
    "\n",
    "print(f'epoch: {i:3} loss: {single_loss.item():10.10f}')"
   ]
  },
  {
   "cell_type": "code",
   "execution_count": 19,
   "metadata": {},
   "outputs": [],
   "source": [
    "test_inout_seq = create_inout_sequences(X_test,y_test, bptt)"
   ]
  },
  {
   "cell_type": "code",
   "execution_count": 20,
   "metadata": {},
   "outputs": [],
   "source": [
    "model.eval()\n",
    "prediction = []\n",
    "with torch.no_grad():\n",
    "    for seq, labels in test_inout_seq:\n",
    "        model.hidden = (torch.zeros(layers, 1, model.hidden_layer_size),\n",
    "                        torch.zeros(layers, 1, model.hidden_layer_size))\n",
    "        prediction.append(model(seq)[-1])"
   ]
  },
  {
   "cell_type": "code",
   "execution_count": 21,
   "metadata": {},
   "outputs": [],
   "source": [
    "y_test_ = torch.stack([labels[-1] for seq, labels in test_inout_seq], axis=0).detach().cpu().numpy()\n",
    "y_pred_ = torch.stack(prediction).detach().cpu().numpy()"
   ]
  },
  {
   "cell_type": "code",
   "execution_count": 22,
   "metadata": {},
   "outputs": [
    {
     "data": {
      "text/plain": [
       "((2184, 24), (2184, 24))"
      ]
     },
     "execution_count": 22,
     "metadata": {},
     "output_type": "execute_result"
    }
   ],
   "source": [
    "y_test_.shape, y_pred_.shape"
   ]
  },
  {
   "cell_type": "code",
   "execution_count": 23,
   "metadata": {},
   "outputs": [
    {
     "data": {
      "text/plain": [
       "0.8318228415696451"
      ]
     },
     "execution_count": 23,
     "metadata": {},
     "output_type": "execute_result"
    }
   ],
   "source": [
    "r2_score(y_test_, y_pred_, multioutput='variance_weighted')"
   ]
  },
  {
   "cell_type": "markdown",
   "metadata": {},
   "source": [
    "### Edge Prediction"
   ]
  },
  {
   "cell_type": "code",
   "execution_count": 24,
   "metadata": {},
   "outputs": [
    {
     "data": {
      "text/html": [
       "<div>\n",
       "<style scoped>\n",
       "    .dataframe tbody tr th:only-of-type {\n",
       "        vertical-align: middle;\n",
       "    }\n",
       "\n",
       "    .dataframe tbody tr th {\n",
       "        vertical-align: top;\n",
       "    }\n",
       "\n",
       "    .dataframe thead th {\n",
       "        text-align: right;\n",
       "    }\n",
       "</style>\n",
       "<table border=\"1\" class=\"dataframe\">\n",
       "  <thead>\n",
       "    <tr style=\"text-align: right;\">\n",
       "      <th></th>\n",
       "      <th>0.0</th>\n",
       "      <th>0.1</th>\n",
       "      <th>0.2</th>\n",
       "      <th>1.0</th>\n",
       "      <th>1.1</th>\n",
       "      <th>1.2</th>\n",
       "      <th>1.3</th>\n",
       "      <th>2.0</th>\n",
       "      <th>2.1</th>\n",
       "      <th>2.2</th>\n",
       "      <th>...</th>\n",
       "      <th>4.0</th>\n",
       "      <th>4.1</th>\n",
       "      <th>4.2</th>\n",
       "      <th>4.3</th>\n",
       "      <th>4.4</th>\n",
       "      <th>4.5</th>\n",
       "      <th>5.0</th>\n",
       "      <th>5.1</th>\n",
       "      <th>5.2</th>\n",
       "      <th>5.3</th>\n",
       "    </tr>\n",
       "  </thead>\n",
       "  <tbody>\n",
       "    <tr>\n",
       "      <th>0</th>\n",
       "      <td>95.815331</td>\n",
       "      <td>30.891098</td>\n",
       "      <td>69.847862</td>\n",
       "      <td>8.350304</td>\n",
       "      <td>13.731751</td>\n",
       "      <td>4.872939</td>\n",
       "      <td>17.321756</td>\n",
       "      <td>4.764876</td>\n",
       "      <td>3.677532</td>\n",
       "      <td>13.611024</td>\n",
       "      <td>...</td>\n",
       "      <td>0.047884</td>\n",
       "      <td>4.099535</td>\n",
       "      <td>3.527463</td>\n",
       "      <td>5.614175</td>\n",
       "      <td>0.051364</td>\n",
       "      <td>15.547918</td>\n",
       "      <td>0.005454</td>\n",
       "      <td>-0.033349</td>\n",
       "      <td>0.008163</td>\n",
       "      <td>0.009803</td>\n",
       "    </tr>\n",
       "    <tr>\n",
       "      <th>1</th>\n",
       "      <td>43.356762</td>\n",
       "      <td>13.556379</td>\n",
       "      <td>26.400442</td>\n",
       "      <td>4.179013</td>\n",
       "      <td>5.831906</td>\n",
       "      <td>2.335419</td>\n",
       "      <td>9.302417</td>\n",
       "      <td>2.917875</td>\n",
       "      <td>1.665354</td>\n",
       "      <td>6.798444</td>\n",
       "      <td>...</td>\n",
       "      <td>0.004019</td>\n",
       "      <td>2.296136</td>\n",
       "      <td>2.316316</td>\n",
       "      <td>2.602067</td>\n",
       "      <td>0.005382</td>\n",
       "      <td>7.876994</td>\n",
       "      <td>0.001669</td>\n",
       "      <td>-0.016429</td>\n",
       "      <td>-0.005528</td>\n",
       "      <td>-0.031352</td>\n",
       "    </tr>\n",
       "  </tbody>\n",
       "</table>\n",
       "<p>2 rows × 24 columns</p>\n",
       "</div>"
      ],
      "text/plain": [
       "         0.0        0.1        0.2       1.0        1.1       1.2        1.3  \\\n",
       "0  95.815331  30.891098  69.847862  8.350304  13.731751  4.872939  17.321756   \n",
       "1  43.356762  13.556379  26.400442  4.179013   5.831906  2.335419   9.302417   \n",
       "\n",
       "        2.0       2.1        2.2  ...       4.0       4.1       4.2       4.3  \\\n",
       "0  4.764876  3.677532  13.611024  ...  0.047884  4.099535  3.527463  5.614175   \n",
       "1  2.917875  1.665354   6.798444  ...  0.004019  2.296136  2.316316  2.602067   \n",
       "\n",
       "        4.4        4.5       5.0       5.1       5.2       5.3  \n",
       "0  0.051364  15.547918  0.005454 -0.033349  0.008163  0.009803  \n",
       "1  0.005382   7.876994  0.001669 -0.016429 -0.005528 -0.031352  \n",
       "\n",
       "[2 rows x 24 columns]"
      ]
     },
     "execution_count": 24,
     "metadata": {},
     "output_type": "execute_result"
    }
   ],
   "source": [
    "edge_prediction_df = pd.DataFrame(y_pred_)\n",
    "edge_prediction_df.columns = testData[6:][targetColumns].columns\n",
    "edge_prediction_df.head(2)"
   ]
  },
  {
   "cell_type": "code",
   "execution_count": 25,
   "metadata": {},
   "outputs": [
    {
     "data": {
      "text/plain": [
       "Index(['0.0', '0.1', '0.2', '1.0', '1.1', '1.2', '1.3', '2.0', '2.1', '2.2',\n",
       "       '2.3', '3.0', '3.1', '3.2', '4.0', '4.1', '4.2', '4.3', '4.4', '4.5',\n",
       "       '5.0', '5.1', '5.2', '5.3'],\n",
       "      dtype='object')"
      ]
     },
     "execution_count": 25,
     "metadata": {},
     "output_type": "execute_result"
    }
   ],
   "source": [
    "edge_prediction_df.columns"
   ]
  },
  {
   "cell_type": "code",
   "execution_count": 26,
   "metadata": {},
   "outputs": [],
   "source": [
    "zone_weights = pd.read_csv('/home/urwa/Documents/side_projects/urban/data/featureData/com_penn_weights.csv')"
   ]
  },
  {
   "cell_type": "code",
   "execution_count": 27,
   "metadata": {},
   "outputs": [],
   "source": [
    "zone_weights['Borough'] = zone_weights['Borough'].astype(str)"
   ]
  },
  {
   "cell_type": "code",
   "execution_count": 28,
   "metadata": {
    "scrolled": true
   },
   "outputs": [
    {
     "name": "stdout",
     "output_type": "stream",
     "text": [
      "0.0\n",
      "14\n",
      "0.1\n",
      "4\n",
      "0.2\n",
      "21\n",
      "1.0\n",
      "15\n",
      "1.1\n",
      "17\n",
      "1.2\n",
      "20\n",
      "1.3\n",
      "10\n",
      "2.0\n",
      "14\n",
      "2.1\n",
      "19\n",
      "2.2\n",
      "8\n",
      "2.3\n",
      "10\n",
      "3.0\n",
      "6\n",
      "3.1\n",
      "4\n",
      "3.2\n",
      "8\n",
      "4.0\n",
      "1\n",
      "4.1\n",
      "18\n",
      "4.2\n",
      "23\n",
      "4.3\n",
      "12\n",
      "4.4\n",
      "5\n",
      "4.5\n",
      "9\n",
      "5.0\n",
      "4\n",
      "5.1\n",
      "8\n",
      "5.2\n",
      "4\n",
      "5.3\n",
      "3\n"
     ]
    }
   ],
   "source": [
    "boroughs = list(edge_prediction_df.columns)\n",
    "for bor in boroughs:\n",
    "    print(bor)\n",
    "    \n",
    "    weight_df = zone_weights[zone_weights.Borough == bor]\n",
    "    \n",
    "    print(len(weight_df.DOLocationID))\n",
    "    \n",
    "    for b_zone,z_weight in zip(weight_df.DOLocationID.values,weight_df.zone_weight.values):        \n",
    "        edge_prediction_df[b_zone] = edge_prediction_df[bor] * z_weight"
   ]
  },
  {
   "cell_type": "code",
   "execution_count": 29,
   "metadata": {},
   "outputs": [
    {
     "data": {
      "text/plain": [
       "(2184, 257)"
      ]
     },
     "execution_count": 29,
     "metadata": {},
     "output_type": "execute_result"
    }
   ],
   "source": [
    "select_cols = [c for c in edge_prediction_df.columns if c not in boroughs]\n",
    "edge_prediction_df = edge_prediction_df[select_cols]\n",
    "edge_prediction_df.shape"
   ]
  },
  {
   "cell_type": "code",
   "execution_count": 30,
   "metadata": {},
   "outputs": [
    {
     "data": {
      "text/plain": [
       "(2184, 257)"
      ]
     },
     "execution_count": 30,
     "metadata": {},
     "output_type": "execute_result"
    }
   ],
   "source": [
    "edge_testData = pd.read_csv('/home/urwa/Documents/side_projects/urban/data/featureData/penn.csv')\n",
    "edge_testData = edge_testData[sep+bptt:]\n",
    "\n",
    "lag_columns = [c for c in edge_testData.columns if 'lag' in c]\n",
    "edge_testData = edge_testData[[c for c in edge_testData.columns if c not in lag_columns]]\n",
    "\n",
    "edgeColumns = [c for c in edge_testData.columns if c not in ext_columns and \\\n",
    "                c not in DateColumns and c not in lag_columns and c != 'Hour']\n",
    "\n",
    "edge_testData = edge_testData[edgeColumns]\n",
    "\n",
    "edge_testData.shape"
   ]
  },
  {
   "cell_type": "code",
   "execution_count": 31,
   "metadata": {},
   "outputs": [
    {
     "data": {
      "text/plain": [
       "Index([  1,  48,  50, 100, 137, 138, 161, 162, 163, 164,\n",
       "       ...\n",
       "       118, 176, 204,  23, 156, 187, 251,   6, 172, 214],\n",
       "      dtype='object', length=257)"
      ]
     },
     "execution_count": 31,
     "metadata": {},
     "output_type": "execute_result"
    }
   ],
   "source": [
    "edge_prediction_df.columns"
   ]
  },
  {
   "cell_type": "code",
   "execution_count": 32,
   "metadata": {},
   "outputs": [
    {
     "data": {
      "text/plain": [
       "Index(['1', '10', '100', '101', '102', '106', '107', '108', '109', '11',\n",
       "       ...\n",
       "       '90', '91', '92', '93', '94', '95', '96', '97', '98', '99'],\n",
       "      dtype='object', length=257)"
      ]
     },
     "execution_count": 32,
     "metadata": {},
     "output_type": "execute_result"
    }
   ],
   "source": [
    "edge_testData.columns"
   ]
  },
  {
   "cell_type": "code",
   "execution_count": 34,
   "metadata": {},
   "outputs": [
    {
     "data": {
      "text/html": [
       "<div>\n",
       "<style scoped>\n",
       "    .dataframe tbody tr th:only-of-type {\n",
       "        vertical-align: middle;\n",
       "    }\n",
       "\n",
       "    .dataframe tbody tr th {\n",
       "        vertical-align: top;\n",
       "    }\n",
       "\n",
       "    .dataframe thead th {\n",
       "        text-align: right;\n",
       "    }\n",
       "</style>\n",
       "<table border=\"1\" class=\"dataframe\">\n",
       "  <thead>\n",
       "    <tr style=\"text-align: right;\">\n",
       "      <th></th>\n",
       "      <th>1</th>\n",
       "      <th>10</th>\n",
       "      <th>100</th>\n",
       "      <th>101</th>\n",
       "      <th>102</th>\n",
       "      <th>106</th>\n",
       "      <th>107</th>\n",
       "      <th>108</th>\n",
       "      <th>109</th>\n",
       "      <th>11</th>\n",
       "      <th>...</th>\n",
       "      <th>90</th>\n",
       "      <th>91</th>\n",
       "      <th>92</th>\n",
       "      <th>93</th>\n",
       "      <th>94</th>\n",
       "      <th>95</th>\n",
       "      <th>96</th>\n",
       "      <th>97</th>\n",
       "      <th>98</th>\n",
       "      <th>99</th>\n",
       "    </tr>\n",
       "  </thead>\n",
       "  <tbody>\n",
       "    <tr>\n",
       "      <th>0</th>\n",
       "      <td>1.401791</td>\n",
       "      <td>0.066712</td>\n",
       "      <td>3.966576</td>\n",
       "      <td>0.015035</td>\n",
       "      <td>0.248080</td>\n",
       "      <td>0.358919</td>\n",
       "      <td>9.370820</td>\n",
       "      <td>0.093440</td>\n",
       "      <td>-0.00544</td>\n",
       "      <td>0.105017</td>\n",
       "      <td>...</td>\n",
       "      <td>4.939750</td>\n",
       "      <td>0.278937</td>\n",
       "      <td>0.774766</td>\n",
       "      <td>0.244536</td>\n",
       "      <td>0.118174</td>\n",
       "      <td>1.122604</td>\n",
       "      <td>0.020343</td>\n",
       "      <td>1.156704</td>\n",
       "      <td>0.108951</td>\n",
       "      <td>-0.000374</td>\n",
       "    </tr>\n",
       "    <tr>\n",
       "      <th>1</th>\n",
       "      <td>0.634315</td>\n",
       "      <td>0.043807</td>\n",
       "      <td>1.794889</td>\n",
       "      <td>0.009872</td>\n",
       "      <td>0.114981</td>\n",
       "      <td>0.152434</td>\n",
       "      <td>3.541895</td>\n",
       "      <td>0.044782</td>\n",
       "      <td>-0.00268</td>\n",
       "      <td>0.050331</td>\n",
       "      <td>...</td>\n",
       "      <td>2.167781</td>\n",
       "      <td>0.139598</td>\n",
       "      <td>0.433944</td>\n",
       "      <td>0.136964</td>\n",
       "      <td>0.062533</td>\n",
       "      <td>0.628767</td>\n",
       "      <td>0.009429</td>\n",
       "      <td>0.491255</td>\n",
       "      <td>0.061023</td>\n",
       "      <td>-0.000184</td>\n",
       "    </tr>\n",
       "  </tbody>\n",
       "</table>\n",
       "<p>2 rows × 257 columns</p>\n",
       "</div>"
      ],
      "text/plain": [
       "        1         10        100       101       102       106       107  \\\n",
       "0  1.401791  0.066712  3.966576  0.015035  0.248080  0.358919  9.370820   \n",
       "1  0.634315  0.043807  1.794889  0.009872  0.114981  0.152434  3.541895   \n",
       "\n",
       "        108      109       11   ...       90        91        92        93   \\\n",
       "0  0.093440 -0.00544  0.105017  ...  4.939750  0.278937  0.774766  0.244536   \n",
       "1  0.044782 -0.00268  0.050331  ...  2.167781  0.139598  0.433944  0.136964   \n",
       "\n",
       "        94        95        96        97        98        99   \n",
       "0  0.118174  1.122604  0.020343  1.156704  0.108951 -0.000374  \n",
       "1  0.062533  0.628767  0.009429  0.491255  0.061023 -0.000184  \n",
       "\n",
       "[2 rows x 257 columns]"
      ]
     },
     "execution_count": 34,
     "metadata": {},
     "output_type": "execute_result"
    }
   ],
   "source": [
    "edge_prediction_df = edge_prediction_df[edge_testData.columns.astype(int)]\n",
    "edge_prediction_df.head(2)"
   ]
  },
  {
   "cell_type": "code",
   "execution_count": 35,
   "metadata": {},
   "outputs": [
    {
     "data": {
      "text/plain": [
       "0.5071596126162997"
      ]
     },
     "execution_count": 35,
     "metadata": {},
     "output_type": "execute_result"
    }
   ],
   "source": [
    "r2_score(edge_testData.values, edge_prediction_df.values, multioutput='variance_weighted')"
   ]
  },
  {
   "cell_type": "code",
   "execution_count": null,
   "metadata": {},
   "outputs": [],
   "source": []
  },
  {
   "cell_type": "code",
   "execution_count": null,
   "metadata": {},
   "outputs": [],
   "source": [
    "# 300 epoch MSE bptt 12 hidden=100\n",
    "#0.4597512505107641"
   ]
  },
  {
   "cell_type": "code",
   "execution_count": null,
   "metadata": {},
   "outputs": [],
   "source": [
    "# 150 epoch MSE bptt 12 hidden=100\n",
    "# 0.47003788967204657"
   ]
  },
  {
   "cell_type": "code",
   "execution_count": null,
   "metadata": {},
   "outputs": [],
   "source": [
    "# 150 epoch L1 bptt 12 hidden=100\n",
    "# 0.49459994974800275"
   ]
  },
  {
   "cell_type": "code",
   "execution_count": null,
   "metadata": {},
   "outputs": [],
   "source": [
    "# 300 epoch L1 bptt 12 hidden=100\n",
    "# 0.48786324620679394"
   ]
  },
  {
   "cell_type": "code",
   "execution_count": null,
   "metadata": {},
   "outputs": [],
   "source": [
    "# 150 epoch L1 bptt 6 hidden=100\n",
    "# 0.5141071457595932"
   ]
  },
  {
   "cell_type": "code",
   "execution_count": null,
   "metadata": {},
   "outputs": [],
   "source": [
    "# 150 epoch L1 bptt=6 hidden=50 \n",
    "# 0.4721109077014878"
   ]
  },
  {
   "cell_type": "code",
   "execution_count": null,
   "metadata": {},
   "outputs": [],
   "source": [
    "# 150 epoch L1 bptt=6 hidden=200 \n",
    "# 0.4574538111782432"
   ]
  },
  {
   "cell_type": "code",
   "execution_count": null,
   "metadata": {},
   "outputs": [],
   "source": [
    "# 300 epoch L1 bptt 6 hidden=100\n",
    "# 0.5001768915084189"
   ]
  },
  {
   "cell_type": "code",
   "execution_count": null,
   "metadata": {},
   "outputs": [],
   "source": [
    "# 150 epoch L1 bptt 6 hidden=100 layers 2\n",
    "# 0.5157145438811139"
   ]
  },
  {
   "cell_type": "code",
   "execution_count": null,
   "metadata": {},
   "outputs": [],
   "source": [
    "# 150 epoch L1 bptt 6 hidden=100 layers 3\n",
    "# 0.5072893536554984"
   ]
  }
 ],
 "metadata": {
  "kernelspec": {
   "display_name": "Python 3",
   "language": "python",
   "name": "python3"
  },
  "language_info": {
   "codemirror_mode": {
    "name": "ipython",
    "version": 3
   },
   "file_extension": ".py",
   "mimetype": "text/x-python",
   "name": "python",
   "nbconvert_exporter": "python",
   "pygments_lexer": "ipython3",
   "version": "3.6.9"
  }
 },
 "nbformat": 4,
 "nbformat_minor": 2
}
